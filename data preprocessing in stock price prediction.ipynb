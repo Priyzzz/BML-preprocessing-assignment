{
 "cells": [
  {
   "cell_type": "markdown",
   "id": "7c7d1a56",
   "metadata": {},
   "source": [
    "# DATA PREPROCESSING IN STOCK PRICE PREDICTION"
   ]
  },
  {
   "cell_type": "markdown",
   "id": "203fd524",
   "metadata": {},
   "source": [
    "Name:Priyadharshani"
   ]
  },
  {
   "cell_type": "markdown",
   "id": "033bfdef",
   "metadata": {},
   "source": [
    "Register No:21UAI068"
   ]
  },
  {
   "cell_type": "code",
   "execution_count": 1,
   "id": "7f314e0a",
   "metadata": {},
   "outputs": [],
   "source": [
    "#1.IMPORTING LIBRARIES\n",
    "import numpy as np # numerical data\n",
    "import pandas as pd #analyzing the data in dataframe and series"
   ]
  },
  {
   "cell_type": "code",
   "execution_count": 2,
   "id": "3b457c22",
   "metadata": {},
   "outputs": [
    {
     "data": {
      "text/html": [
       "<div>\n",
       "<style scoped>\n",
       "    .dataframe tbody tr th:only-of-type {\n",
       "        vertical-align: middle;\n",
       "    }\n",
       "\n",
       "    .dataframe tbody tr th {\n",
       "        vertical-align: top;\n",
       "    }\n",
       "\n",
       "    .dataframe thead th {\n",
       "        text-align: right;\n",
       "    }\n",
       "</style>\n",
       "<table border=\"1\" class=\"dataframe\">\n",
       "  <thead>\n",
       "    <tr style=\"text-align: right;\">\n",
       "      <th></th>\n",
       "      <th>Date</th>\n",
       "      <th>Open</th>\n",
       "      <th>High</th>\n",
       "      <th>Low</th>\n",
       "      <th>Close</th>\n",
       "      <th>Adj Close</th>\n",
       "      <th>Volume</th>\n",
       "    </tr>\n",
       "  </thead>\n",
       "  <tbody>\n",
       "    <tr>\n",
       "      <th>0</th>\n",
       "      <td>29/06/2010</td>\n",
       "      <td>19.000000</td>\n",
       "      <td>25.000000</td>\n",
       "      <td>17.540001</td>\n",
       "      <td>23.889999</td>\n",
       "      <td>23.889999</td>\n",
       "      <td>18766300.0</td>\n",
       "    </tr>\n",
       "    <tr>\n",
       "      <th>1</th>\n",
       "      <td>30/06/2010</td>\n",
       "      <td>25.790001</td>\n",
       "      <td>30.420000</td>\n",
       "      <td>23.299999</td>\n",
       "      <td>23.830000</td>\n",
       "      <td>23.830000</td>\n",
       "      <td>17187100.0</td>\n",
       "    </tr>\n",
       "    <tr>\n",
       "      <th>2</th>\n",
       "      <td>01/07/2010</td>\n",
       "      <td>25.000000</td>\n",
       "      <td>25.920000</td>\n",
       "      <td>20.270000</td>\n",
       "      <td>21.959999</td>\n",
       "      <td>21.959999</td>\n",
       "      <td>8218800.0</td>\n",
       "    </tr>\n",
       "    <tr>\n",
       "      <th>3</th>\n",
       "      <td>02/07/2010</td>\n",
       "      <td>23.000000</td>\n",
       "      <td>23.100000</td>\n",
       "      <td>18.709999</td>\n",
       "      <td>19.200001</td>\n",
       "      <td>19.200001</td>\n",
       "      <td>5139800.0</td>\n",
       "    </tr>\n",
       "    <tr>\n",
       "      <th>4</th>\n",
       "      <td>06/07/2010</td>\n",
       "      <td>20.000000</td>\n",
       "      <td>20.000000</td>\n",
       "      <td>15.830000</td>\n",
       "      <td>16.110001</td>\n",
       "      <td>16.110001</td>\n",
       "      <td>6866900.0</td>\n",
       "    </tr>\n",
       "    <tr>\n",
       "      <th>...</th>\n",
       "      <td>...</td>\n",
       "      <td>...</td>\n",
       "      <td>...</td>\n",
       "      <td>...</td>\n",
       "      <td>...</td>\n",
       "      <td>...</td>\n",
       "      <td>...</td>\n",
       "    </tr>\n",
       "    <tr>\n",
       "      <th>2411</th>\n",
       "      <td>28/01/2020</td>\n",
       "      <td>568.489990</td>\n",
       "      <td>576.809998</td>\n",
       "      <td>558.080017</td>\n",
       "      <td>566.900024</td>\n",
       "      <td>566.900024</td>\n",
       "      <td>11788500.0</td>\n",
       "    </tr>\n",
       "    <tr>\n",
       "      <th>2412</th>\n",
       "      <td>29/01/2020</td>\n",
       "      <td>575.690002</td>\n",
       "      <td>589.799988</td>\n",
       "      <td>567.429993</td>\n",
       "      <td>580.989990</td>\n",
       "      <td>580.989990</td>\n",
       "      <td>17801500.0</td>\n",
       "    </tr>\n",
       "    <tr>\n",
       "      <th>2413</th>\n",
       "      <td>30/01/2020</td>\n",
       "      <td>632.419983</td>\n",
       "      <td>650.880005</td>\n",
       "      <td>618.000000</td>\n",
       "      <td>640.809998</td>\n",
       "      <td>640.809998</td>\n",
       "      <td>29005700.0</td>\n",
       "    </tr>\n",
       "    <tr>\n",
       "      <th>2414</th>\n",
       "      <td>31/01/2020</td>\n",
       "      <td>640.000000</td>\n",
       "      <td>653.000000</td>\n",
       "      <td>632.520020</td>\n",
       "      <td>650.570007</td>\n",
       "      <td>650.570007</td>\n",
       "      <td>15719300.0</td>\n",
       "    </tr>\n",
       "    <tr>\n",
       "      <th>2415</th>\n",
       "      <td>03/02/2020</td>\n",
       "      <td>673.690002</td>\n",
       "      <td>786.140015</td>\n",
       "      <td>673.520020</td>\n",
       "      <td>780.000000</td>\n",
       "      <td>780.000000</td>\n",
       "      <td>47065000.0</td>\n",
       "    </tr>\n",
       "  </tbody>\n",
       "</table>\n",
       "<p>2416 rows × 7 columns</p>\n",
       "</div>"
      ],
      "text/plain": [
       "            Date        Open        High         Low       Close   Adj Close  \\\n",
       "0     29/06/2010   19.000000   25.000000   17.540001   23.889999   23.889999   \n",
       "1     30/06/2010   25.790001   30.420000   23.299999   23.830000   23.830000   \n",
       "2     01/07/2010   25.000000   25.920000   20.270000   21.959999   21.959999   \n",
       "3     02/07/2010   23.000000   23.100000   18.709999   19.200001   19.200001   \n",
       "4     06/07/2010   20.000000   20.000000   15.830000   16.110001   16.110001   \n",
       "...          ...         ...         ...         ...         ...         ...   \n",
       "2411  28/01/2020  568.489990  576.809998  558.080017  566.900024  566.900024   \n",
       "2412  29/01/2020  575.690002  589.799988  567.429993  580.989990  580.989990   \n",
       "2413  30/01/2020  632.419983  650.880005  618.000000  640.809998  640.809998   \n",
       "2414  31/01/2020  640.000000  653.000000  632.520020  650.570007  650.570007   \n",
       "2415  03/02/2020  673.690002  786.140015  673.520020  780.000000  780.000000   \n",
       "\n",
       "          Volume  \n",
       "0     18766300.0  \n",
       "1     17187100.0  \n",
       "2      8218800.0  \n",
       "3      5139800.0  \n",
       "4      6866900.0  \n",
       "...          ...  \n",
       "2411  11788500.0  \n",
       "2412  17801500.0  \n",
       "2413  29005700.0  \n",
       "2414  15719300.0  \n",
       "2415  47065000.0  \n",
       "\n",
       "[2416 rows x 7 columns]"
      ]
     },
     "execution_count": 2,
     "metadata": {},
     "output_type": "execute_result"
    }
   ],
   "source": [
    "#2.iMPORTING DATASET\n",
    "data=pd.read_csv(\"stock.csv\")\n",
    "data"
   ]
  },
  {
   "cell_type": "code",
   "execution_count": 3,
   "id": "20f6e4c6",
   "metadata": {},
   "outputs": [
    {
     "data": {
      "text/plain": [
       "(2416, 7)"
      ]
     },
     "execution_count": 3,
     "metadata": {},
     "output_type": "execute_result"
    }
   ],
   "source": [
    "data.shape"
   ]
  },
  {
   "cell_type": "code",
   "execution_count": 5,
   "id": "7063b93c",
   "metadata": {},
   "outputs": [
    {
     "data": {
      "text/plain": [
       "array([['29/06/2010', 19.0, 25.0, 17.540001, 23.889999],\n",
       "       ['30/06/2010', 25.790001, 30.42, 23.299999, 23.83],\n",
       "       ['01/07/2010', 25.0, 25.92, 20.27, 21.959999],\n",
       "       ...,\n",
       "       ['30/01/2020', 632.419983, 650.880005, 618.0, 640.809998],\n",
       "       ['31/01/2020', 640.0, 653.0, 632.52002, 650.570007],\n",
       "       ['03/02/2020', 673.690002, 786.140015, 673.52002, 780.0]],\n",
       "      dtype=object)"
      ]
     },
     "execution_count": 5,
     "metadata": {},
     "output_type": "execute_result"
    }
   ],
   "source": [
    "#SEPARATE INDEPENDENT VALUES\n",
    "x=data[['Date','Open','High','Low','Close']].values#data.iloc[:,:-1].values\n",
    "x"
   ]
  },
  {
   "cell_type": "code",
   "execution_count": 6,
   "id": "8d90ab78",
   "metadata": {},
   "outputs": [
    {
     "data": {
      "text/plain": [
       "array([[2.38899990e+01, 1.87663000e+07],\n",
       "       [2.38300000e+01, 1.71871000e+07],\n",
       "       [2.19599990e+01, 8.21880000e+06],\n",
       "       ...,\n",
       "       [6.40809998e+02, 2.90057000e+07],\n",
       "       [6.50570007e+02, 1.57193000e+07],\n",
       "       [7.80000000e+02, 4.70650000e+07]])"
      ]
     },
     "execution_count": 6,
     "metadata": {},
     "output_type": "execute_result"
    }
   ],
   "source": [
    "#DEPENDENT VALUES\n",
    "y=data[['Adj Close','Volume']].values\n",
    "y"
   ]
  },
  {
   "cell_type": "code",
   "execution_count": 7,
   "id": "9baf7101",
   "metadata": {},
   "outputs": [
    {
     "name": "stdout",
     "output_type": "stream",
     "text": [
      "Date          0\n",
      "Open          4\n",
      "High          6\n",
      "Low          12\n",
      "Close         5\n",
      "Adj Close     8\n",
      "Volume        8\n",
      "dtype: int64\n"
     ]
    }
   ],
   "source": [
    "#Finding missing values\n",
    "#Find and count the missing values in our dataset\n",
    "print(data.isnull().sum())"
   ]
  },
  {
   "cell_type": "code",
   "execution_count": 8,
   "id": "869ff54c",
   "metadata": {},
   "outputs": [],
   "source": [
    "#drop missing value records- remaining rows are kept as its place\n",
    "data.dropna(inplace=True)"
   ]
  },
  {
   "cell_type": "code",
   "execution_count": 9,
   "id": "216aa441",
   "metadata": {},
   "outputs": [
    {
     "data": {
      "text/html": [
       "<div>\n",
       "<style scoped>\n",
       "    .dataframe tbody tr th:only-of-type {\n",
       "        vertical-align: middle;\n",
       "    }\n",
       "\n",
       "    .dataframe tbody tr th {\n",
       "        vertical-align: top;\n",
       "    }\n",
       "\n",
       "    .dataframe thead th {\n",
       "        text-align: right;\n",
       "    }\n",
       "</style>\n",
       "<table border=\"1\" class=\"dataframe\">\n",
       "  <thead>\n",
       "    <tr style=\"text-align: right;\">\n",
       "      <th></th>\n",
       "      <th>Date</th>\n",
       "      <th>Open</th>\n",
       "      <th>High</th>\n",
       "      <th>Low</th>\n",
       "      <th>Close</th>\n",
       "      <th>Adj Close</th>\n",
       "      <th>Volume</th>\n",
       "    </tr>\n",
       "  </thead>\n",
       "  <tbody>\n",
       "    <tr>\n",
       "      <th>0</th>\n",
       "      <td>29/06/2010</td>\n",
       "      <td>19.000000</td>\n",
       "      <td>25.000000</td>\n",
       "      <td>17.540001</td>\n",
       "      <td>23.889999</td>\n",
       "      <td>23.889999</td>\n",
       "      <td>18766300.0</td>\n",
       "    </tr>\n",
       "    <tr>\n",
       "      <th>1</th>\n",
       "      <td>30/06/2010</td>\n",
       "      <td>25.790001</td>\n",
       "      <td>30.420000</td>\n",
       "      <td>23.299999</td>\n",
       "      <td>23.830000</td>\n",
       "      <td>23.830000</td>\n",
       "      <td>17187100.0</td>\n",
       "    </tr>\n",
       "    <tr>\n",
       "      <th>2</th>\n",
       "      <td>01/07/2010</td>\n",
       "      <td>25.000000</td>\n",
       "      <td>25.920000</td>\n",
       "      <td>20.270000</td>\n",
       "      <td>21.959999</td>\n",
       "      <td>21.959999</td>\n",
       "      <td>8218800.0</td>\n",
       "    </tr>\n",
       "    <tr>\n",
       "      <th>3</th>\n",
       "      <td>02/07/2010</td>\n",
       "      <td>23.000000</td>\n",
       "      <td>23.100000</td>\n",
       "      <td>18.709999</td>\n",
       "      <td>19.200001</td>\n",
       "      <td>19.200001</td>\n",
       "      <td>5139800.0</td>\n",
       "    </tr>\n",
       "    <tr>\n",
       "      <th>4</th>\n",
       "      <td>06/07/2010</td>\n",
       "      <td>20.000000</td>\n",
       "      <td>20.000000</td>\n",
       "      <td>15.830000</td>\n",
       "      <td>16.110001</td>\n",
       "      <td>16.110001</td>\n",
       "      <td>6866900.0</td>\n",
       "    </tr>\n",
       "    <tr>\n",
       "      <th>...</th>\n",
       "      <td>...</td>\n",
       "      <td>...</td>\n",
       "      <td>...</td>\n",
       "      <td>...</td>\n",
       "      <td>...</td>\n",
       "      <td>...</td>\n",
       "      <td>...</td>\n",
       "    </tr>\n",
       "    <tr>\n",
       "      <th>2411</th>\n",
       "      <td>28/01/2020</td>\n",
       "      <td>568.489990</td>\n",
       "      <td>576.809998</td>\n",
       "      <td>558.080017</td>\n",
       "      <td>566.900024</td>\n",
       "      <td>566.900024</td>\n",
       "      <td>11788500.0</td>\n",
       "    </tr>\n",
       "    <tr>\n",
       "      <th>2412</th>\n",
       "      <td>29/01/2020</td>\n",
       "      <td>575.690002</td>\n",
       "      <td>589.799988</td>\n",
       "      <td>567.429993</td>\n",
       "      <td>580.989990</td>\n",
       "      <td>580.989990</td>\n",
       "      <td>17801500.0</td>\n",
       "    </tr>\n",
       "    <tr>\n",
       "      <th>2413</th>\n",
       "      <td>30/01/2020</td>\n",
       "      <td>632.419983</td>\n",
       "      <td>650.880005</td>\n",
       "      <td>618.000000</td>\n",
       "      <td>640.809998</td>\n",
       "      <td>640.809998</td>\n",
       "      <td>29005700.0</td>\n",
       "    </tr>\n",
       "    <tr>\n",
       "      <th>2414</th>\n",
       "      <td>31/01/2020</td>\n",
       "      <td>640.000000</td>\n",
       "      <td>653.000000</td>\n",
       "      <td>632.520020</td>\n",
       "      <td>650.570007</td>\n",
       "      <td>650.570007</td>\n",
       "      <td>15719300.0</td>\n",
       "    </tr>\n",
       "    <tr>\n",
       "      <th>2415</th>\n",
       "      <td>03/02/2020</td>\n",
       "      <td>673.690002</td>\n",
       "      <td>786.140015</td>\n",
       "      <td>673.520020</td>\n",
       "      <td>780.000000</td>\n",
       "      <td>780.000000</td>\n",
       "      <td>47065000.0</td>\n",
       "    </tr>\n",
       "  </tbody>\n",
       "</table>\n",
       "<p>2377 rows × 7 columns</p>\n",
       "</div>"
      ],
      "text/plain": [
       "            Date        Open        High         Low       Close   Adj Close  \\\n",
       "0     29/06/2010   19.000000   25.000000   17.540001   23.889999   23.889999   \n",
       "1     30/06/2010   25.790001   30.420000   23.299999   23.830000   23.830000   \n",
       "2     01/07/2010   25.000000   25.920000   20.270000   21.959999   21.959999   \n",
       "3     02/07/2010   23.000000   23.100000   18.709999   19.200001   19.200001   \n",
       "4     06/07/2010   20.000000   20.000000   15.830000   16.110001   16.110001   \n",
       "...          ...         ...         ...         ...         ...         ...   \n",
       "2411  28/01/2020  568.489990  576.809998  558.080017  566.900024  566.900024   \n",
       "2412  29/01/2020  575.690002  589.799988  567.429993  580.989990  580.989990   \n",
       "2413  30/01/2020  632.419983  650.880005  618.000000  640.809998  640.809998   \n",
       "2414  31/01/2020  640.000000  653.000000  632.520020  650.570007  650.570007   \n",
       "2415  03/02/2020  673.690002  786.140015  673.520020  780.000000  780.000000   \n",
       "\n",
       "          Volume  \n",
       "0     18766300.0  \n",
       "1     17187100.0  \n",
       "2      8218800.0  \n",
       "3      5139800.0  \n",
       "4      6866900.0  \n",
       "...          ...  \n",
       "2411  11788500.0  \n",
       "2412  17801500.0  \n",
       "2413  29005700.0  \n",
       "2414  15719300.0  \n",
       "2415  47065000.0  \n",
       "\n",
       "[2377 rows x 7 columns]"
      ]
     },
     "execution_count": 9,
     "metadata": {},
     "output_type": "execute_result"
    }
   ],
   "source": [
    "data"
   ]
  },
  {
   "cell_type": "code",
   "execution_count": 10,
   "id": "6b2546c7",
   "metadata": {},
   "outputs": [],
   "source": [
    "\n",
    "#simple imputer-filled missing values in numerical\n",
    "from sklearn.impute import SimpleImputer"
   ]
  },
  {
   "cell_type": "code",
   "execution_count": 11,
   "id": "36075ebe",
   "metadata": {},
   "outputs": [],
   "source": [
    "imputer=SimpleImputer(missing_values=np.nan,strategy='mean')"
   ]
  },
  {
   "cell_type": "code",
   "execution_count": 12,
   "id": "0931598d",
   "metadata": {},
   "outputs": [],
   "source": [
    "# Fit- we split our data into training and testing adjusts weights according to data values for better accuracy\n",
    "imputer=imputer.fit(x[:,1:3])"
   ]
  },
  {
   "cell_type": "code",
   "execution_count": 13,
   "id": "ce71636f",
   "metadata": {},
   "outputs": [
    {
     "data": {
      "text/plain": [
       "array([['29/06/2010', 19.0, 25.0, 17.540001, 23.889999],\n",
       "       ['30/06/2010', 25.790001, 30.42, 23.299999, 23.83],\n",
       "       ['01/07/2010', 25.0, 25.92, 20.27, 21.959999],\n",
       "       ...,\n",
       "       ['30/01/2020', 632.419983, 650.880005, 618.0, 640.809998],\n",
       "       ['31/01/2020', 640.0, 653.0, 632.52002, 650.570007],\n",
       "       ['03/02/2020', 673.690002, 786.140015, 673.52002, 780.0]],\n",
       "      dtype=object)"
      ]
     },
     "execution_count": 13,
     "metadata": {},
     "output_type": "execute_result"
    }
   ],
   "source": [
    "#transform calculate the mean value\n",
    "x[:,1:3]=imputer.transform(x[:,1:3])\n",
    "x"
   ]
  },
  {
   "cell_type": "code",
   "execution_count": 14,
   "id": "4f9e9e2d",
   "metadata": {},
   "outputs": [],
   "source": [
    "#4.ENCODING CATEGORICAL VALUES Label encoder- each unique values it gives an index like 1,2,3\n",
    "#One hot encoder- take an each index value to add one feature\n",
    "from sklearn.preprocessing import LabelEncoder"
   ]
  },
  {
   "cell_type": "code",
   "execution_count": 15,
   "id": "d2eb524a",
   "metadata": {},
   "outputs": [],
   "source": [
    "label_encode_x=LabelEncoder()\n",
    "label_encode_y=LabelEncoder()"
   ]
  },
  {
   "cell_type": "code",
   "execution_count": 16,
   "id": "c188c6e6",
   "metadata": {},
   "outputs": [
    {
     "data": {
      "text/plain": [
       "array([[2246, 19.0, 25.0, 17.540001, 23.889999],\n",
       "       [2319, 25.790001, 30.42, 23.299999, 23.83],\n",
       "       [33, 25.0, 25.92, 20.27, 21.959999],\n",
       "       ...,\n",
       "       [2301, 632.419983, 650.880005, 618.0, 640.809998],\n",
       "       [2374, 640.0, 653.0, 632.52002, 650.570007],\n",
       "       [166, 673.690002, 786.140015, 673.52002, 780.0]], dtype=object)"
      ]
     },
     "execution_count": 16,
     "metadata": {},
     "output_type": "execute_result"
    }
   ],
   "source": [
    "x[:,0]=label_encode_x.fit_transform(x[:,0])\n",
    "x"
   ]
  },
  {
   "cell_type": "code",
   "execution_count": 17,
   "id": "e21842db",
   "metadata": {},
   "outputs": [
    {
     "data": {
      "text/plain": [
       "array(['01/02/2011', '01/02/2012', '01/02/2013', ..., '31/12/2015',\n",
       "       '31/12/2018', '31/12/2019'], dtype=object)"
      ]
     },
     "execution_count": 17,
     "metadata": {},
     "output_type": "execute_result"
    }
   ],
   "source": [
    "label_encode_x.classes_"
   ]
  },
  {
   "cell_type": "code",
   "execution_count": 28,
   "id": "45ac4b51",
   "metadata": {},
   "outputs": [],
   "source": [
    "#SPLITTING DATASET INTO TRAINING AND TESTING\n",
    "from sklearn.model_selection import train_test_split"
   ]
  },
  {
   "cell_type": "code",
   "execution_count": 22,
   "id": "706d4149",
   "metadata": {},
   "outputs": [],
   "source": [
    "x_train,x_test,y_train,y_test=train_test_split(x,y,test_size=0.25,random_state=1)"
   ]
  },
  {
   "cell_type": "code",
   "execution_count": 23,
   "id": "1a24d36f",
   "metadata": {},
   "outputs": [
    {
     "name": "stdout",
     "output_type": "stream",
     "text": [
      "[[42 135.0 136.520004 132.630005 135.550003]\n",
      " [1312 217.809998 219.990005 214.5 215.470001]\n",
      " [569 260.5 260.820007 248.020004 250.070007]\n",
      " ...\n",
      " [292 240.490005 242.350006 236.529999 238.929993]\n",
      " [185 29.950001 31.5 29.5 30.129999]\n",
      " [1252 255.149994 262.459991 252.419998 260.73999]]\n",
      "[[756 29.309999 29.940001 29.309999 29.940001]\n",
      " [1446 241.389999 241.550003 233.509995 235.839996]\n",
      " [928 364.48999 368.76001 360.399994 362.75]\n",
      " ...\n",
      " [1365 172.419998 172.949997 164.770004 166.770004]\n",
      " [907 222.949997 223.380005 209.0 209.259995]\n",
      " [2339 229.149994 232.440002 224.210007 225.610001]]\n",
      "[[1.35550003e+02 5.32360000e+06]\n",
      " [2.15470001e+02 3.11260000e+06]\n",
      " [2.50070007e+02 7.36390000e+06]\n",
      " ...\n",
      " [2.38929993e+02 3.68260000e+06]\n",
      " [3.01299990e+01 6.20920000e+06]\n",
      " [2.60739990e+02 8.30010000e+06]]\n",
      "[[2.99400010e+01 7.07400000e+05]\n",
      " [2.35839996e+02 5.07130000e+06]\n",
      " [3.62750000e+02 5.97290000e+06]\n",
      " ...\n",
      " [1.66770004e+02 3.88760000e+06]\n",
      " [2.09259995e+02 1.51862000e+07]\n",
      " [2.25610001e+02 9.32060000e+06]]\n"
     ]
    }
   ],
   "source": [
    "print(x_train)\n",
    "print(x_test)\n",
    "print(y_train)\n",
    "print(y_test)"
   ]
  },
  {
   "cell_type": "code",
   "execution_count": 24,
   "id": "75366461",
   "metadata": {},
   "outputs": [],
   "source": [
    "#6.FEATURE SCALING\n",
    "from sklearn.preprocessing import StandardScaler"
   ]
  },
  {
   "cell_type": "code",
   "execution_count": 25,
   "id": "95e9a469",
   "metadata": {},
   "outputs": [
    {
     "name": "stdout",
     "output_type": "stream",
     "text": [
      "[[-1.67458618 -0.43190346 -0.44104486 -0.43364246 -0.42857201]\n",
      " [ 0.14730613  0.27027887  0.25728995  0.27101703  0.24958074]\n",
      " [-0.9185726   0.63226614  0.59888588  0.55952552  0.54317546]\n",
      " ...\n",
      " [-1.31594596  0.46259261  0.44436036  0.46063043  0.44864804]\n",
      " [-1.46944397 -1.32266853 -1.3196734  -1.321288   -1.32310239]\n",
      " [ 0.06123247  0.58690109  0.61260647  0.59739651  0.63371448]]\n",
      "[[-0.63858959 -1.3145429  -1.30810361 -1.30839941 -1.29635215]\n",
      " [ 0.34924923  0.44320781  0.40647138  0.41249486  0.39384962]\n",
      " [-0.39234571  1.46347893  1.43719344  1.48185958  1.43563456]\n",
      " ...\n",
      " [ 0.23328555 -0.12842586 -0.14936177 -0.16681101 -0.17313545]\n",
      " [-0.42241037  0.29037432  0.25924855  0.20593702  0.17565843]\n",
      " [ 1.6277131   0.34176082  0.33265738  0.33411926  0.30987315]]\n"
     ]
    }
   ],
   "source": [
    "scaler=StandardScaler()\n",
    "x_train=scaler.fit_transform(x_train)\n",
    "x_test=scaler.fit_transform(x_test)\n",
    "print(x_train)\n",
    "print(x_test)"
   ]
  },
  {
   "cell_type": "code",
   "execution_count": null,
   "id": "15023768",
   "metadata": {},
   "outputs": [],
   "source": []
  }
 ],
 "metadata": {
  "kernelspec": {
   "display_name": "Python 3 (ipykernel)",
   "language": "python",
   "name": "python3"
  },
  "language_info": {
   "codemirror_mode": {
    "name": "ipython",
    "version": 3
   },
   "file_extension": ".py",
   "mimetype": "text/x-python",
   "name": "python",
   "nbconvert_exporter": "python",
   "pygments_lexer": "ipython3",
   "version": "3.9.12"
  }
 },
 "nbformat": 4,
 "nbformat_minor": 5
}
